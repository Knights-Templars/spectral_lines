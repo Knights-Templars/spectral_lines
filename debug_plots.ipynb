{
 "cells": [
  {
   "cell_type": "code",
   "execution_count": 8,
   "metadata": {},
   "outputs": [],
   "source": [
    "import pickle\n",
    "import IDRTools\n",
    "import spectral_lines\n",
    "import numpy as np\n",
    "import pandas as pd\n",
    "import matplotlib.pyplot as plt\n",
    "from ipywidgets import interact"
   ]
  },
  {
   "cell_type": "code",
   "execution_count": 9,
   "metadata": {},
   "outputs": [],
   "source": [
    "SG_PATH = '/Users/samdixon/data/BLACKSTON_spec_feat_py3.pkl'\n",
    "with open(SG_PATH, 'rb') as f:\n",
    "    SG = pickle.load(f)\n",
    "DS = IDRTools.Dataset(subset=['training', 'validation'],\n",
    "                      data_dir='/Users/samdixon/data/BLACKSTONE')\n",
    "V_LINE_NAME_MAP = {'SiII4000': 'SiII_4128',\n",
    "                   'SIIW_L': 'SiII_5454',\n",
    "                   'SIIW_R': 'SiII_5640',\n",
    "                   'SiII5972': 'SiII_5972',\n",
    "                   'SiII6355': 'SiII_6355'}"
   ]
  },
  {
   "cell_type": "code",
   "execution_count": 10,
   "metadata": {},
   "outputs": [],
   "source": [
    "sn = np.random.choice(DS.sne)\n",
    "spec = sn.spec_nearest()\n",
    "spl = spectral_lines.Spl(spec)\n",
    "sg_data = SG[sn.target_name]['spectra'][spec.obs_exp]"
   ]
  },
  {
   "cell_type": "code",
   "execution_count": 18,
   "metadata": {},
   "outputs": [],
   "source": [
    "def plot_near_max_spec(sn, norm, line):\n",
    "    spec = sn.spec_nearest()\n",
    "    wave, flux, var = spec.rf_spec()\n",
    "    spl = spectral_lines.Spl(spec, norm=norm, line=line)\n",
    "    sg_data = SG[sn.target_name]['spectra'][spec.obs_exp]\n",
    "    \n",
    "    plt.plot(spl.wave_feat, spl.flux_feat)\n",
    "    smooth_wave, smooth_flux = spl.get_smoothed_feature_spec()\n",
    "    plt.plot(smooth_wave, smooth_flux)\n",
    "    plt.axvspan(*spectral_lines.extrema_lims[line]['b'], alpha=0.2)\n",
    "    plt.axvspan(*spectral_lines.extrema_lims[line]['r'], color='C3', alpha=0.2)\n",
    "    try:\n",
    "        plt.axvspan(*spectral_lines.vel_lims[line], alpha=0.2, color='k')\n",
    "    except KeyError:\n",
    "        pass\n",
    "    plt.axvline(spl.minimum, color='k')\n",
    "    plt.axvline(spl.maxima['blue_max_wave'], color='C0')\n",
    "    plt.axvline(spl.maxima['red_max_wave'], color='C3')\n",
    "    for i, _ in enumerate(sg_data['phrenology.lbd_EW{}'.format(line)]):\n",
    "        if i==1:\n",
    "            plt.axvline(_, linestyle='--', color='C3')\n",
    "        else:\n",
    "            plt.axvline(_, linestyle='--', color='C0')\n",
    "    try:\n",
    "        plt.axvline(sg_data['phrenology.v{}_lbd'.format(V_LINE_NAME_MAP[line])], linestyle='--', color='k')\n",
    "    except KeyError:\n",
    "        pass\n",
    "    plt.title('{} {:+0.3f} days'.format(sn.target_name, spec.salt2_phase))\n",
    "    plt.xlabel('Rest-frame wavelength ($\\AA$)')\n",
    "    plt.ylabel('Norm. flux (A.U.)')\n",
    "#     plt.ylim(0, 2)"
   ]
  },
  {
   "cell_type": "code",
   "execution_count": 19,
   "metadata": {},
   "outputs": [
    {
     "data": {
      "application/vnd.jupyter.widget-view+json": {
       "model_id": "e88dc6d0c821474b947e0d732dcdac92",
       "version_major": 2,
       "version_minor": 0
      },
      "text/plain": [
       "interactive(children=(Dropdown(description='sn', options=(CSS110918_01, CSS110918_02, CSS120424_01, CSS130502_…"
      ]
     },
     "metadata": {},
     "output_type": "display_data"
    },
    {
     "data": {
      "text/plain": [
       "<function __main__.plot_near_max_spec(sn, norm, line)>"
      ]
     },
     "execution_count": 19,
     "metadata": {},
     "output_type": "execute_result"
    }
   ],
   "source": [
    "interact(plot_near_max_spec, sn=sorted([sn for sn in DS.sne if np.abs(sn.spec_nearest().salt2_phase)<2.5],\n",
    "                                       key=lambda x: x.target_name),\n",
    "         norm=['SNID', 'line'], line=spectral_lines.line_names)"
   ]
  },
  {
   "cell_type": "code",
   "execution_count": null,
   "metadata": {},
   "outputs": [],
   "source": []
  }
 ],
 "metadata": {
  "kernelspec": {
   "display_name": "Python 3",
   "language": "python",
   "name": "python3"
  },
  "language_info": {
   "codemirror_mode": {
    "name": "ipython",
    "version": 3
   },
   "file_extension": ".py",
   "mimetype": "text/x-python",
   "name": "python",
   "nbconvert_exporter": "python",
   "pygments_lexer": "ipython3",
   "version": "3.6.10"
  }
 },
 "nbformat": 4,
 "nbformat_minor": 4
}
